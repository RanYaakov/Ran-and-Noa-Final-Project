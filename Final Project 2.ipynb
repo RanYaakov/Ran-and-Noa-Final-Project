{
 "cells": [
  {
   "cell_type": "code",
   "execution_count": 1,
   "id": "049d970c",
   "metadata": {},
   "outputs": [],
   "source": [
    "import pandas as pd\n",
    "import numpy as np\n",
    "import matplotlib as mpl\n",
    "from matplotlib import pyplot as plt\n",
    "import re\n",
    "%matplotlib inline"
   ]
  },
  {
   "cell_type": "code",
   "execution_count": 2,
   "id": "c511379f",
   "metadata": {},
   "outputs": [],
   "source": [
    "df = pd.read_csv('ps4.csv', header=0, sep=',') "
   ]
  },
  {
   "cell_type": "code",
   "execution_count": 3,
   "id": "034a7fe9",
   "metadata": {},
   "outputs": [
    {
     "name": "stdout",
     "output_type": "stream",
     "text": [
      "<class 'pandas.core.frame.DataFrame'>\n",
      "RangeIndex: 2073 entries, 0 to 2072\n",
      "Data columns (total 10 columns):\n",
      " #   Column          Non-Null Count  Dtype \n",
      "---  ------          --------------  ----- \n",
      " 0   name            2073 non-null   object\n",
      " 1   release         2073 non-null   object\n",
      " 2   genres          2073 non-null   object\n",
      " 3   metascore       2073 non-null   int64 \n",
      " 4   users_score     2073 non-null   object\n",
      " 5   platforms       1829 non-null   object\n",
      " 6   publisher       2073 non-null   object\n",
      " 7   num_of_players  1546 non-null   object\n",
      " 8   rating          1948 non-null   object\n",
      " 9   developer       2073 non-null   object\n",
      "dtypes: int64(1), object(9)\n",
      "memory usage: 162.1+ KB\n"
     ]
    },
    {
     "data": {
      "text/html": [
       "<div>\n",
       "<style scoped>\n",
       "    .dataframe tbody tr th:only-of-type {\n",
       "        vertical-align: middle;\n",
       "    }\n",
       "\n",
       "    .dataframe tbody tr th {\n",
       "        vertical-align: top;\n",
       "    }\n",
       "\n",
       "    .dataframe thead th {\n",
       "        text-align: right;\n",
       "    }\n",
       "</style>\n",
       "<table border=\"1\" class=\"dataframe\">\n",
       "  <thead>\n",
       "    <tr style=\"text-align: right;\">\n",
       "      <th></th>\n",
       "      <th>name</th>\n",
       "      <th>release</th>\n",
       "      <th>genres</th>\n",
       "      <th>metascore</th>\n",
       "      <th>users_score</th>\n",
       "      <th>platforms</th>\n",
       "      <th>publisher</th>\n",
       "      <th>num_of_players</th>\n",
       "      <th>rating</th>\n",
       "      <th>developer</th>\n",
       "    </tr>\n",
       "  </thead>\n",
       "  <tbody>\n",
       "    <tr>\n",
       "      <th>0</th>\n",
       "      <td>Red Dead Redemption 2</td>\n",
       "      <td>26-Oct-18</td>\n",
       "      <td>['Action Adventure', 'Open-World']</td>\n",
       "      <td>97</td>\n",
       "      <td>8.6</td>\n",
       "      <td>['PC', 'Xbox One']</td>\n",
       "      <td>Rockstar Games</td>\n",
       "      <td>Up to 32</td>\n",
       "      <td>M</td>\n",
       "      <td>Rockstar Games</td>\n",
       "    </tr>\n",
       "    <tr>\n",
       "      <th>1</th>\n",
       "      <td>Grand Theft Auto V</td>\n",
       "      <td>18-Nov-14</td>\n",
       "      <td>['Action Adventure', 'Modern', 'Open-World']</td>\n",
       "      <td>97</td>\n",
       "      <td>8.4</td>\n",
       "      <td>['PC', 'Xbox One']</td>\n",
       "      <td>Rockstar Games</td>\n",
       "      <td>Up to 30</td>\n",
       "      <td>M</td>\n",
       "      <td>Rockstar North</td>\n",
       "    </tr>\n",
       "    <tr>\n",
       "      <th>2</th>\n",
       "      <td>Persona 5 Royal</td>\n",
       "      <td>31-Mar-20</td>\n",
       "      <td>['Role-Playing', 'Japanese-Style']</td>\n",
       "      <td>95</td>\n",
       "      <td>8.4</td>\n",
       "      <td>NaN</td>\n",
       "      <td>Atlus</td>\n",
       "      <td>No Online Multiplayer</td>\n",
       "      <td>M</td>\n",
       "      <td>Atlus</td>\n",
       "    </tr>\n",
       "    <tr>\n",
       "      <th>3</th>\n",
       "      <td>The Last of Us Remastered</td>\n",
       "      <td>29-Jul-14</td>\n",
       "      <td>['Action Adventure', 'General', 'Modern']</td>\n",
       "      <td>95</td>\n",
       "      <td>9.2</td>\n",
       "      <td>NaN</td>\n",
       "      <td>SCEA</td>\n",
       "      <td>Up to 8</td>\n",
       "      <td>M</td>\n",
       "      <td>Naughty Dog</td>\n",
       "    </tr>\n",
       "    <tr>\n",
       "      <th>4</th>\n",
       "      <td>God of War</td>\n",
       "      <td>20-Apr-18</td>\n",
       "      <td>['Action Adventure', 'Linear']</td>\n",
       "      <td>94</td>\n",
       "      <td>9.2</td>\n",
       "      <td>['PC']</td>\n",
       "      <td>Sony Interactive Entertainment</td>\n",
       "      <td>No Online Multiplayer</td>\n",
       "      <td>M</td>\n",
       "      <td>SCE Santa Monica</td>\n",
       "    </tr>\n",
       "  </tbody>\n",
       "</table>\n",
       "</div>"
      ],
      "text/plain": [
       "                        name    release  \\\n",
       "0      Red Dead Redemption 2  26-Oct-18   \n",
       "1         Grand Theft Auto V  18-Nov-14   \n",
       "2            Persona 5 Royal  31-Mar-20   \n",
       "3  The Last of Us Remastered  29-Jul-14   \n",
       "4                 God of War  20-Apr-18   \n",
       "\n",
       "                                         genres  metascore users_score  \\\n",
       "0            ['Action Adventure', 'Open-World']         97         8.6   \n",
       "1  ['Action Adventure', 'Modern', 'Open-World']         97         8.4   \n",
       "2            ['Role-Playing', 'Japanese-Style']         95         8.4   \n",
       "3     ['Action Adventure', 'General', 'Modern']         95         9.2   \n",
       "4                ['Action Adventure', 'Linear']         94         9.2   \n",
       "\n",
       "            platforms                       publisher         num_of_players  \\\n",
       "0  ['PC', 'Xbox One']                  Rockstar Games              Up to 32    \n",
       "1  ['PC', 'Xbox One']                  Rockstar Games              Up to 30    \n",
       "2                 NaN                           Atlus  No Online Multiplayer   \n",
       "3                 NaN                            SCEA               Up to 8    \n",
       "4              ['PC']  Sony Interactive Entertainment  No Online Multiplayer   \n",
       "\n",
       "  rating         developer  \n",
       "0      M    Rockstar Games  \n",
       "1      M    Rockstar North  \n",
       "2      M             Atlus  \n",
       "3      M       Naughty Dog  \n",
       "4      M  SCE Santa Monica  "
      ]
     },
     "execution_count": 3,
     "metadata": {},
     "output_type": "execute_result"
    }
   ],
   "source": [
    "df.info()\n",
    "df.head()"
   ]
  },
  {
   "cell_type": "code",
   "execution_count": 4,
   "id": "c6ee2067",
   "metadata": {},
   "outputs": [
    {
     "data": {
      "text/plain": [
       "0"
      ]
     },
     "execution_count": 4,
     "metadata": {},
     "output_type": "execute_result"
    }
   ],
   "source": [
    "df.duplicated(keep='first').sum()"
   ]
  },
  {
   "cell_type": "code",
   "execution_count": 5,
   "id": "8eb660a9",
   "metadata": {},
   "outputs": [],
   "source": [
    "df['platforms'].fillna('Exclusive',inplace=True)\n",
    "df['num_of_players'].fillna('Single Player',inplace=True)\n",
    "df['rating'].fillna('Unknown',inplace=True)"
   ]
  },
  {
   "cell_type": "code",
   "execution_count": 6,
   "id": "be8769de",
   "metadata": {},
   "outputs": [],
   "source": [
    "df['users_score']=pd.to_numeric(df['users_score'],errors='coerce')"
   ]
  },
  {
   "cell_type": "code",
   "execution_count": 9,
   "id": "97b1c58b",
   "metadata": {},
   "outputs": [],
   "source": [
    "df['num_of_players']=df['num_of_players'].replace('No Online Multiplayer','Single Player')\n",
    "df['num_of_players']=df['num_of_players'].replace('1 Player','Single Player')\n"
   ]
  },
  {
   "cell_type": "code",
   "execution_count": 73,
   "id": "cb7e9938",
   "metadata": {},
   "outputs": [],
   "source": [
    "for i in df['num_of_players']:\n",
    "    if i != 'Single Player':\n",
    "        df['num_of_players'] = df['num_of_players'].replace([i],'Multiplayer')"
   ]
  },
  {
   "cell_type": "code",
   "execution_count": 74,
   "id": "d8ab3301",
   "metadata": {},
   "outputs": [],
   "source": [
    "df=pd.get_dummies(df,columns=['num_of_players'],prefix='is')\n",
    "df['release']=pd.to_datetime(df['release'])\n",
    "df['month']=df['release'].dt.month\n",
    "df['year']=df['release'].dt.year"
   ]
  },
  {
   "cell_type": "code",
   "execution_count": 75,
   "id": "69e60fb3",
   "metadata": {},
   "outputs": [],
   "source": [
    "df.drop(['is_Single Player'],axis=1,inplace=True)"
   ]
  },
  {
   "cell_type": "code",
   "execution_count": 76,
   "id": "b57586c1",
   "metadata": {},
   "outputs": [],
   "source": [
    "df['rating'].unique()\n",
    "rate_map={\"Unknown\":0 ,\"E\":1 ,\"E10+\":2 ,\"T\":3 ,\"M\":4}\n",
    "df.replace(rate_map,inplace=True)\n"
   ]
  },
  {
   "cell_type": "code",
   "execution_count": 77,
   "id": "5fc41aca",
   "metadata": {},
   "outputs": [],
   "source": [
    "df['users_score'].fillna(df['users_score'].median(),inplace=True)\n",
    "df['users_score']=df['users_score']*10\n"
   ]
  },
  {
   "cell_type": "code",
   "execution_count": 78,
   "id": "56cc4c98",
   "metadata": {
    "scrolled": true
   },
   "outputs": [
    {
     "name": "stdout",
     "output_type": "stream",
     "text": [
      "[2023    43\n",
      "2024    43\n",
      "2025    43\n",
      "2026    43\n",
      "2027    43\n",
      "2028    43\n",
      "2029    43\n",
      "2030    43\n",
      "2031    43\n",
      "2032    42\n",
      "2033    42\n",
      "2034    42\n",
      "2035    42\n",
      "2036    42\n",
      "2037    41\n",
      "2038    41\n",
      "2039    41\n",
      "2040    41\n",
      "2041    41\n",
      "2042    40\n",
      "2043    40\n",
      "2044    39\n",
      "2045    39\n",
      "2046    38\n",
      "2047    38\n",
      "2048    38\n",
      "2049    38\n",
      "2050    38\n",
      "2051    38\n",
      "2052    37\n",
      "2053    37\n",
      "2054    37\n",
      "2055    37\n",
      "2056    37\n",
      "2057    36\n",
      "2058    36\n",
      "2059    36\n",
      "2060    36\n",
      "2061    35\n",
      "2062    35\n",
      "2063    33\n",
      "2064    32\n",
      "2065    32\n",
      "2066    31\n",
      "2067    30\n",
      "2068    30\n",
      "2069    28\n",
      "2070    27\n",
      "2071    26\n",
      "2072    21\n",
      "Name: metascore, dtype: int64, 199     35.0\n",
      "239     21.0\n",
      "271     34.0\n",
      "292     37.0\n",
      "310     28.0\n",
      "        ... \n",
      "2068    17.0\n",
      "2069    18.0\n",
      "2070    28.0\n",
      "2071    24.0\n",
      "2072    29.0\n",
      "Name: users_score, Length: 103, dtype: float64]\n"
     ]
    }
   ],
   "source": [
    "mycols=['metascore','users_score']\n",
    "outliers=[]\n",
    "for col in mycols:        \n",
    "        Q1 = np.percentile(df[col], 25)\n",
    "        Q3 = np.percentile(df[col], 75)\n",
    "        IQR = Q3 - Q1\n",
    "        IQR_range = 1.5 * IQR\n",
    "        outliers.append(df[col].iloc[:][(df[col] < Q1 - 1.5*IQR) | (df[col] > Q3 + 1.5*IQR )])\n",
    "\n",
    "print(outliers)"
   ]
  },
  {
   "cell_type": "code",
   "execution_count": 79,
   "id": "afad0e3a",
   "metadata": {},
   "outputs": [],
   "source": [
    "df['developer'].replace([\"EA Sports\",\"EA DICE\", \"EA Canada\",\"EA Vancouver\",\"EA Tiburon\"], 'EA',inplace=True)\n",
    "df['developer'].replace('Rockstar North','Rockstar Games',inplace=True)\n"
   ]
  },
  {
   "cell_type": "code",
   "execution_count": 80,
   "id": "fc813a02",
   "metadata": {},
   "outputs": [],
   "source": [
    "for i in df['platforms']:\n",
    "    if i != 'Exclusive':\n",
    "        df['platforms'] = df['platforms'].replace([i],'Not Exclusive')\n",
    "df=pd.get_dummies(df,columns=['platforms'],prefix='is')\n",
    "df.drop(['is_Not Exclusive'],axis=1,inplace=True)"
   ]
  },
  {
   "cell_type": "code",
   "execution_count": 85,
   "id": "9da497cf",
   "metadata": {},
   "outputs": [],
   "source": [
    "df['is_best']=np.where(df['metascore']>=80,1,0)"
   ]
  },
  {
   "cell_type": "code",
   "execution_count": 86,
   "id": "f790102e",
   "metadata": {},
   "outputs": [],
   "source": [
    "df.to_csv('ps4_clean.csv', encoding='utf-8',index=False)"
   ]
  },
  {
   "cell_type": "code",
   "execution_count": null,
   "id": "dbb48144",
   "metadata": {},
   "outputs": [],
   "source": []
  },
  {
   "cell_type": "code",
   "execution_count": null,
   "id": "1b164179",
   "metadata": {},
   "outputs": [],
   "source": []
  }
 ],
 "metadata": {
  "kernelspec": {
   "display_name": "Python 3",
   "language": "python",
   "name": "python3"
  },
  "language_info": {
   "codemirror_mode": {
    "name": "ipython",
    "version": 3
   },
   "file_extension": ".py",
   "mimetype": "text/x-python",
   "name": "python",
   "nbconvert_exporter": "python",
   "pygments_lexer": "ipython3",
   "version": "3.8.8"
  }
 },
 "nbformat": 4,
 "nbformat_minor": 5
}
